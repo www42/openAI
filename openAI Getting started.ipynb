{
 "cells": [
  {
   "cell_type": "markdown",
   "metadata": {},
   "source": [
    "# Count tokens\n",
    "\n",
    "[How to count tokens with tiktoken](https://github.com/openai/openai-cookbook/blob/main/examples/How_to_count_tokens_with_tiktoken.ipynb)"
   ]
  },
  {
   "cell_type": "code",
   "execution_count": null,
   "metadata": {},
   "outputs": [],
   "source": [
    "%pip install --upgrade openai\n",
    "%pip install --upgrade tiktoken"
   ]
  },
  {
   "cell_type": "code",
   "execution_count": null,
   "metadata": {},
   "outputs": [],
   "source": [
    "import tiktoken"
   ]
  },
  {
   "cell_type": "markdown",
   "metadata": {},
   "source": [
    "### Load an encoding\n",
    "\n",
    "Encodings specify how text is converted into tokens. Different models use different encodings.\n",
    "\n",
    "| Model | Encoding |\n",
    "| --- | --- |\n",
    "| `gpt-4`<br>`gpt-3.5-turbo`<br>`text-embedding-ada-002` | cl100k_base |\n",
    "| `text-davinci-002`<br>`text-davinci-003`<br>Codex models | p50k_base |"
   ]
  },
  {
   "cell_type": "code",
   "execution_count": null,
   "metadata": {},
   "outputs": [],
   "source": [
    "encoding = tiktoken.encoding_for_model(\"gpt-3.5-turbo\")"
   ]
  },
  {
   "cell_type": "code",
   "execution_count": null,
   "metadata": {},
   "outputs": [],
   "source": [
    "encoding.encode(\"Hello World!\")"
   ]
  },
  {
   "cell_type": "code",
   "execution_count": null,
   "metadata": {},
   "outputs": [],
   "source": [
    "\n",
    "text = \"tiktoken is great!\"\n",
    "encoding.encode(text)"
   ]
  },
  {
   "cell_type": "code",
   "execution_count": null,
   "metadata": {},
   "outputs": [],
   "source": [
    "len(encoding.encode(text))"
   ]
  },
  {
   "cell_type": "code",
   "execution_count": null,
   "metadata": {},
   "outputs": [],
   "source": [
    "text = \"\"\"జిబ్రాల్టర్ జలసంధి, అట్లాంటిక్ మహాసముద్రాన్ని మధ్యధరా సముద్రానికి కలిపే ఒక సన్నని జలసంధి.\n",
    "ఐరోపా లోని ఐబీరియన్ ద్వీపకల్పాన్ని ఆఫ్రికాలోని మొరాకో నుండి ఇది వేరు చేస్తుంది.\n",
    "స్పెయిన్‌ లోని పాయింట్ మారోక్వి, మొరాకోలోని పాయింట్ సైర్స్ మధ్య,\n",
    "13 కి.మీ. వెడల్పున్న ఈ జలసంధి రెండు ఖండాలనూ వేరు చేస్తోంది.\"\"\"\n",
    "\n",
    "len(encoding.encode(text))"
   ]
  }
 ],
 "metadata": {
  "kernelspec": {
   "display_name": "Python 3",
   "language": "python",
   "name": "python3"
  },
  "language_info": {
   "codemirror_mode": {
    "name": "ipython",
    "version": 3
   },
   "file_extension": ".py",
   "mimetype": "text/x-python",
   "name": "python",
   "nbconvert_exporter": "python",
   "pygments_lexer": "ipython3",
   "version": "3.11.6"
  },
  "orig_nbformat": 4
 },
 "nbformat": 4,
 "nbformat_minor": 2
}
